{
 "cells": [
  {
   "cell_type": "markdown",
   "id": "84b0e402",
   "metadata": {},
   "source": [
    "# Taking the Data"
   ]
  },
  {
   "cell_type": "code",
   "execution_count": 1,
   "id": "6a06b378",
   "metadata": {},
   "outputs": [],
   "source": [
    "import pandas as pd"
   ]
  },
  {
   "cell_type": "code",
   "execution_count": 2,
   "id": "abe66523",
   "metadata": {},
   "outputs": [],
   "source": [
    "file_path = \"C:\\\\Users\\\\mh183\\\\OneDrive\\\\Documents\\\\customer_churn_large_dataset.csv\"\n",
    "data = pd.read_csv(file_path)"
   ]
  },
  {
   "cell_type": "code",
   "execution_count": 3,
   "id": "3172137d",
   "metadata": {},
   "outputs": [
    {
     "name": "stdout",
     "output_type": "stream",
     "text": [
      "<class 'pandas.core.frame.DataFrame'>\n",
      "RangeIndex: 100000 entries, 0 to 99999\n",
      "Data columns (total 9 columns):\n",
      " #   Column                      Non-Null Count   Dtype  \n",
      "---  ------                      --------------   -----  \n",
      " 0   CustomerID                  100000 non-null  int64  \n",
      " 1   Name                        100000 non-null  object \n",
      " 2   Age                         100000 non-null  int64  \n",
      " 3   Gender                      100000 non-null  object \n",
      " 4   Location                    100000 non-null  object \n",
      " 5   Subscription_Length_Months  100000 non-null  int64  \n",
      " 6   Monthly_Bill                100000 non-null  float64\n",
      " 7   Total_Usage_GB              100000 non-null  int64  \n",
      " 8   Churn                       100000 non-null  int64  \n",
      "dtypes: float64(1), int64(5), object(3)\n",
      "memory usage: 6.9+ MB\n"
     ]
    }
   ],
   "source": [
    "data.info()"
   ]
  },
  {
   "cell_type": "code",
   "execution_count": 4,
   "id": "212b2b5b",
   "metadata": {},
   "outputs": [],
   "source": [
    "data.drop(['CustomerID', 'Name'], axis=1, inplace=True)"
   ]
  },
  {
   "cell_type": "code",
   "execution_count": 5,
   "id": "d56b92ec",
   "metadata": {},
   "outputs": [],
   "source": [
    "from sklearn.preprocessing import LabelEncoder, StandardScaler"
   ]
  },
  {
   "cell_type": "code",
   "execution_count": 6,
   "id": "184e4dd7",
   "metadata": {},
   "outputs": [],
   "source": [
    "label_encoder = LabelEncoder()\n",
    "data['Gender'] = label_encoder.fit_transform(data['Gender'])\n",
    "data = pd.get_dummies(data, columns=['Location'], drop_first=True)"
   ]
  },
  {
   "cell_type": "markdown",
   "id": "d32c7e81",
   "metadata": {},
   "source": [
    "# checking the missing data"
   ]
  },
  {
   "cell_type": "markdown",
   "id": "665c9350",
   "metadata": {},
   "source": [
    "first we have to check ,Is data missing or not"
   ]
  },
  {
   "cell_type": "code",
   "execution_count": 7,
   "id": "d526ea5f",
   "metadata": {},
   "outputs": [],
   "source": [
    "missing_data = data.isnull().sum()"
   ]
  },
  {
   "cell_type": "code",
   "execution_count": 8,
   "id": "3652b224",
   "metadata": {},
   "outputs": [
    {
     "data": {
      "text/plain": [
       "Age                           0\n",
       "Gender                        0\n",
       "Subscription_Length_Months    0\n",
       "Monthly_Bill                  0\n",
       "Total_Usage_GB                0\n",
       "Churn                         0\n",
       "Location_Houston              0\n",
       "Location_Los Angeles          0\n",
       "Location_Miami                0\n",
       "Location_New York             0\n",
       "dtype: int64"
      ]
     },
     "execution_count": 8,
     "metadata": {},
     "output_type": "execute_result"
    }
   ],
   "source": [
    "missing_data"
   ]
  },
  {
   "cell_type": "markdown",
   "id": "80d89140",
   "metadata": {},
   "source": [
    "# For Handling the missing data"
   ]
  },
  {
   "cell_type": "code",
   "execution_count": 9,
   "id": "5dc0f269",
   "metadata": {},
   "outputs": [],
   "source": [
    "from sklearn.impute import SimpleImputer"
   ]
  },
  {
   "cell_type": "code",
   "execution_count": 10,
   "id": "1db80ca3",
   "metadata": {},
   "outputs": [],
   "source": [
    "imputer = SimpleImputer(strategy='median')\n",
    "columns_to_impute = ['Age', 'Subscription_Length_Months', 'Monthly_Bill', 'Total_Usage_GB']\n",
    "data[columns_to_impute] = imputer.fit_transform(data[columns_to_impute])"
   ]
  },
  {
   "cell_type": "markdown",
   "id": "05fbdd53",
   "metadata": {},
   "source": [
    "# Now to handling the  outliers"
   ]
  },
  {
   "cell_type": "markdown",
   "id": "f8def768",
   "metadata": {},
   "source": [
    "Here we remove the outliers instead of impute{because,not want to train the model with wrong data}"
   ]
  },
  {
   "cell_type": "code",
   "execution_count": 11,
   "id": "0585a88b",
   "metadata": {},
   "outputs": [],
   "source": [
    "import numpy as np"
   ]
  },
  {
   "cell_type": "code",
   "execution_count": 12,
   "id": "8a6349bd",
   "metadata": {},
   "outputs": [],
   "source": [
    "Q1 = data[['Age','Subscription_Length_Months', 'Monthly_Bill', 'Total_Usage_GB']].quantile(0.25)\n",
    "Q3 = data[['Age','Subscription_Length_Months', 'Monthly_Bill', 'Total_Usage_GB']].quantile(0.75)\n",
    "IQR = Q3 - Q1\n",
    "\n",
    "# Define a mask for outliers\n",
    "outlier_mask = ((data[['Age','Subscription_Length_Months', 'Monthly_Bill', 'Total_Usage_GB']] < (Q1 - 1.5 * IQR)) | (data[['Age','Subscription_Length_Months', 'Monthly_Bill', 'Total_Usage_GB']] > (Q3 + 1.5 * IQR)))\n",
    "\n",
    "# Remove outliers from the dataset\n",
    "data_no_outliers = data[~outlier_mask]"
   ]
  },
  {
   "cell_type": "code",
   "execution_count": 13,
   "id": "bbd3bd07",
   "metadata": {},
   "outputs": [],
   "source": [
    "# if you want to save the data  \n",
    "\n",
    "# data_no_outliers.to_csv('clean_data.csv', index=False)"
   ]
  },
  {
   "cell_type": "markdown",
   "id": "0bdffce4",
   "metadata": {},
   "source": [
    "# Train and Test"
   ]
  },
  {
   "cell_type": "code",
   "execution_count": 14,
   "id": "cfa7372e",
   "metadata": {},
   "outputs": [],
   "source": [
    "from sklearn.model_selection import train_test_split"
   ]
  },
  {
   "cell_type": "code",
   "execution_count": 15,
   "id": "944da8b3",
   "metadata": {},
   "outputs": [],
   "source": [
    "train_set, test_set = train_test_split(data, test_size=0.2, random_state=42)"
   ]
  },
  {
   "cell_type": "code",
   "execution_count": 16,
   "id": "a7c8f3c5",
   "metadata": {},
   "outputs": [
    {
     "data": {
      "text/html": [
       "<div>\n",
       "<style scoped>\n",
       "    .dataframe tbody tr th:only-of-type {\n",
       "        vertical-align: middle;\n",
       "    }\n",
       "\n",
       "    .dataframe tbody tr th {\n",
       "        vertical-align: top;\n",
       "    }\n",
       "\n",
       "    .dataframe thead th {\n",
       "        text-align: right;\n",
       "    }\n",
       "</style>\n",
       "<table border=\"1\" class=\"dataframe\">\n",
       "  <thead>\n",
       "    <tr style=\"text-align: right;\">\n",
       "      <th></th>\n",
       "      <th>Age</th>\n",
       "      <th>Gender</th>\n",
       "      <th>Subscription_Length_Months</th>\n",
       "      <th>Monthly_Bill</th>\n",
       "      <th>Total_Usage_GB</th>\n",
       "      <th>Churn</th>\n",
       "      <th>Location_Houston</th>\n",
       "      <th>Location_Los Angeles</th>\n",
       "      <th>Location_Miami</th>\n",
       "      <th>Location_New York</th>\n",
       "    </tr>\n",
       "  </thead>\n",
       "  <tbody>\n",
       "    <tr>\n",
       "      <th>75220</th>\n",
       "      <td>54.0</td>\n",
       "      <td>0</td>\n",
       "      <td>5.0</td>\n",
       "      <td>84.50</td>\n",
       "      <td>205.0</td>\n",
       "      <td>1</td>\n",
       "      <td>False</td>\n",
       "      <td>False</td>\n",
       "      <td>False</td>\n",
       "      <td>True</td>\n",
       "    </tr>\n",
       "    <tr>\n",
       "      <th>48955</th>\n",
       "      <td>28.0</td>\n",
       "      <td>1</td>\n",
       "      <td>24.0</td>\n",
       "      <td>82.06</td>\n",
       "      <td>239.0</td>\n",
       "      <td>1</td>\n",
       "      <td>False</td>\n",
       "      <td>False</td>\n",
       "      <td>False</td>\n",
       "      <td>True</td>\n",
       "    </tr>\n",
       "    <tr>\n",
       "      <th>44966</th>\n",
       "      <td>57.0</td>\n",
       "      <td>1</td>\n",
       "      <td>12.0</td>\n",
       "      <td>52.29</td>\n",
       "      <td>62.0</td>\n",
       "      <td>1</td>\n",
       "      <td>False</td>\n",
       "      <td>False</td>\n",
       "      <td>False</td>\n",
       "      <td>False</td>\n",
       "    </tr>\n",
       "    <tr>\n",
       "      <th>13568</th>\n",
       "      <td>19.0</td>\n",
       "      <td>1</td>\n",
       "      <td>19.0</td>\n",
       "      <td>32.57</td>\n",
       "      <td>173.0</td>\n",
       "      <td>1</td>\n",
       "      <td>True</td>\n",
       "      <td>False</td>\n",
       "      <td>False</td>\n",
       "      <td>False</td>\n",
       "    </tr>\n",
       "    <tr>\n",
       "      <th>92727</th>\n",
       "      <td>56.0</td>\n",
       "      <td>0</td>\n",
       "      <td>8.0</td>\n",
       "      <td>33.52</td>\n",
       "      <td>314.0</td>\n",
       "      <td>1</td>\n",
       "      <td>False</td>\n",
       "      <td>False</td>\n",
       "      <td>True</td>\n",
       "      <td>False</td>\n",
       "    </tr>\n",
       "    <tr>\n",
       "      <th>...</th>\n",
       "      <td>...</td>\n",
       "      <td>...</td>\n",
       "      <td>...</td>\n",
       "      <td>...</td>\n",
       "      <td>...</td>\n",
       "      <td>...</td>\n",
       "      <td>...</td>\n",
       "      <td>...</td>\n",
       "      <td>...</td>\n",
       "      <td>...</td>\n",
       "    </tr>\n",
       "    <tr>\n",
       "      <th>6265</th>\n",
       "      <td>35.0</td>\n",
       "      <td>1</td>\n",
       "      <td>21.0</td>\n",
       "      <td>67.33</td>\n",
       "      <td>235.0</td>\n",
       "      <td>0</td>\n",
       "      <td>False</td>\n",
       "      <td>False</td>\n",
       "      <td>True</td>\n",
       "      <td>False</td>\n",
       "    </tr>\n",
       "    <tr>\n",
       "      <th>54886</th>\n",
       "      <td>56.0</td>\n",
       "      <td>1</td>\n",
       "      <td>13.0</td>\n",
       "      <td>85.40</td>\n",
       "      <td>347.0</td>\n",
       "      <td>0</td>\n",
       "      <td>False</td>\n",
       "      <td>False</td>\n",
       "      <td>False</td>\n",
       "      <td>False</td>\n",
       "    </tr>\n",
       "    <tr>\n",
       "      <th>76820</th>\n",
       "      <td>69.0</td>\n",
       "      <td>1</td>\n",
       "      <td>2.0</td>\n",
       "      <td>76.24</td>\n",
       "      <td>321.0</td>\n",
       "      <td>1</td>\n",
       "      <td>True</td>\n",
       "      <td>False</td>\n",
       "      <td>False</td>\n",
       "      <td>False</td>\n",
       "    </tr>\n",
       "    <tr>\n",
       "      <th>860</th>\n",
       "      <td>55.0</td>\n",
       "      <td>1</td>\n",
       "      <td>12.0</td>\n",
       "      <td>89.19</td>\n",
       "      <td>315.0</td>\n",
       "      <td>1</td>\n",
       "      <td>False</td>\n",
       "      <td>False</td>\n",
       "      <td>False</td>\n",
       "      <td>False</td>\n",
       "    </tr>\n",
       "    <tr>\n",
       "      <th>15795</th>\n",
       "      <td>26.0</td>\n",
       "      <td>0</td>\n",
       "      <td>17.0</td>\n",
       "      <td>70.41</td>\n",
       "      <td>335.0</td>\n",
       "      <td>0</td>\n",
       "      <td>False</td>\n",
       "      <td>True</td>\n",
       "      <td>False</td>\n",
       "      <td>False</td>\n",
       "    </tr>\n",
       "  </tbody>\n",
       "</table>\n",
       "<p>80000 rows × 10 columns</p>\n",
       "</div>"
      ],
      "text/plain": [
       "        Age  Gender  Subscription_Length_Months  Monthly_Bill  Total_Usage_GB  \\\n",
       "75220  54.0       0                         5.0         84.50           205.0   \n",
       "48955  28.0       1                        24.0         82.06           239.0   \n",
       "44966  57.0       1                        12.0         52.29            62.0   \n",
       "13568  19.0       1                        19.0         32.57           173.0   \n",
       "92727  56.0       0                         8.0         33.52           314.0   \n",
       "...     ...     ...                         ...           ...             ...   \n",
       "6265   35.0       1                        21.0         67.33           235.0   \n",
       "54886  56.0       1                        13.0         85.40           347.0   \n",
       "76820  69.0       1                         2.0         76.24           321.0   \n",
       "860    55.0       1                        12.0         89.19           315.0   \n",
       "15795  26.0       0                        17.0         70.41           335.0   \n",
       "\n",
       "       Churn  Location_Houston  Location_Los Angeles  Location_Miami  \\\n",
       "75220      1             False                 False           False   \n",
       "48955      1             False                 False           False   \n",
       "44966      1             False                 False           False   \n",
       "13568      1              True                 False           False   \n",
       "92727      1             False                 False            True   \n",
       "...      ...               ...                   ...             ...   \n",
       "6265       0             False                 False            True   \n",
       "54886      0             False                 False           False   \n",
       "76820      1              True                 False           False   \n",
       "860        1             False                 False           False   \n",
       "15795      0             False                  True           False   \n",
       "\n",
       "       Location_New York  \n",
       "75220               True  \n",
       "48955               True  \n",
       "44966              False  \n",
       "13568              False  \n",
       "92727              False  \n",
       "...                  ...  \n",
       "6265               False  \n",
       "54886              False  \n",
       "76820              False  \n",
       "860                False  \n",
       "15795              False  \n",
       "\n",
       "[80000 rows x 10 columns]"
      ]
     },
     "execution_count": 16,
     "metadata": {},
     "output_type": "execute_result"
    }
   ],
   "source": [
    "train_set"
   ]
  },
  {
   "cell_type": "code",
   "execution_count": 17,
   "id": "2d8cce75",
   "metadata": {},
   "outputs": [],
   "source": [
    "from sklearn.preprocessing import LabelEncoder, StandardScaler"
   ]
  },
  {
   "cell_type": "code",
   "execution_count": 18,
   "id": "e6281bc8",
   "metadata": {},
   "outputs": [],
   "source": [
    "x_train = train_set.drop(\"Churn\", axis=1)\n",
    "y_train = train_set[\"Churn\"].copy()\n",
    "x_test = test_set.drop(\"Churn\", axis=1) \n",
    "y_test = test_set[\"Churn\"].copy()"
   ]
  },
  {
   "cell_type": "code",
   "execution_count": 19,
   "id": "df967ba3",
   "metadata": {},
   "outputs": [],
   "source": [
    "scaler = StandardScaler()\n",
    "scaler.fit(x_train)\n",
    "x_train_scaled = scaler.transform(x_train)\n",
    "x_test_scaled = scaler.transform(x_test)"
   ]
  },
  {
   "cell_type": "code",
   "execution_count": 20,
   "id": "452daebe",
   "metadata": {},
   "outputs": [
    {
     "data": {
      "text/plain": [
       "(20000,)"
      ]
     },
     "execution_count": 20,
     "metadata": {},
     "output_type": "execute_result"
    }
   ],
   "source": [
    "x_test.shape\n",
    "y_test.shape"
   ]
  },
  {
   "cell_type": "code",
   "execution_count": 21,
   "id": "5f3290aa",
   "metadata": {},
   "outputs": [],
   "source": [
    "from sklearn.ensemble import HistGradientBoostingClassifier"
   ]
  },
  {
   "cell_type": "code",
   "execution_count": 22,
   "id": "ae484885",
   "metadata": {},
   "outputs": [],
   "source": [
    "clf = HistGradientBoostingClassifier()"
   ]
  },
  {
   "cell_type": "code",
   "execution_count": 23,
   "id": "b0f2de71",
   "metadata": {},
   "outputs": [
    {
     "name": "stderr",
     "output_type": "stream",
     "text": [
      "C:\\ProgramData\\anaconda3\\Lib\\site-packages\\joblib\\externals\\loky\\backend\\context.py:110: UserWarning: Could not find the number of physical cores for the following reason:\n",
      "found 0 physical cores < 1\n",
      "Returning the number of logical cores instead. You can silence this warning by setting LOKY_MAX_CPU_COUNT to the number of cores you want to use.\n",
      "  warnings.warn(\n",
      "  File \"C:\\ProgramData\\anaconda3\\Lib\\site-packages\\joblib\\externals\\loky\\backend\\context.py\", line 217, in _count_physical_cores\n",
      "    raise ValueError(\n"
     ]
    },
    {
     "data": {
      "text/html": [
       "<style>#sk-container-id-1 {color: black;}#sk-container-id-1 pre{padding: 0;}#sk-container-id-1 div.sk-toggleable {background-color: white;}#sk-container-id-1 label.sk-toggleable__label {cursor: pointer;display: block;width: 100%;margin-bottom: 0;padding: 0.3em;box-sizing: border-box;text-align: center;}#sk-container-id-1 label.sk-toggleable__label-arrow:before {content: \"▸\";float: left;margin-right: 0.25em;color: #696969;}#sk-container-id-1 label.sk-toggleable__label-arrow:hover:before {color: black;}#sk-container-id-1 div.sk-estimator:hover label.sk-toggleable__label-arrow:before {color: black;}#sk-container-id-1 div.sk-toggleable__content {max-height: 0;max-width: 0;overflow: hidden;text-align: left;background-color: #f0f8ff;}#sk-container-id-1 div.sk-toggleable__content pre {margin: 0.2em;color: black;border-radius: 0.25em;background-color: #f0f8ff;}#sk-container-id-1 input.sk-toggleable__control:checked~div.sk-toggleable__content {max-height: 200px;max-width: 100%;overflow: auto;}#sk-container-id-1 input.sk-toggleable__control:checked~label.sk-toggleable__label-arrow:before {content: \"▾\";}#sk-container-id-1 div.sk-estimator input.sk-toggleable__control:checked~label.sk-toggleable__label {background-color: #d4ebff;}#sk-container-id-1 div.sk-label input.sk-toggleable__control:checked~label.sk-toggleable__label {background-color: #d4ebff;}#sk-container-id-1 input.sk-hidden--visually {border: 0;clip: rect(1px 1px 1px 1px);clip: rect(1px, 1px, 1px, 1px);height: 1px;margin: -1px;overflow: hidden;padding: 0;position: absolute;width: 1px;}#sk-container-id-1 div.sk-estimator {font-family: monospace;background-color: #f0f8ff;border: 1px dotted black;border-radius: 0.25em;box-sizing: border-box;margin-bottom: 0.5em;}#sk-container-id-1 div.sk-estimator:hover {background-color: #d4ebff;}#sk-container-id-1 div.sk-parallel-item::after {content: \"\";width: 100%;border-bottom: 1px solid gray;flex-grow: 1;}#sk-container-id-1 div.sk-label:hover label.sk-toggleable__label {background-color: #d4ebff;}#sk-container-id-1 div.sk-serial::before {content: \"\";position: absolute;border-left: 1px solid gray;box-sizing: border-box;top: 0;bottom: 0;left: 50%;z-index: 0;}#sk-container-id-1 div.sk-serial {display: flex;flex-direction: column;align-items: center;background-color: white;padding-right: 0.2em;padding-left: 0.2em;position: relative;}#sk-container-id-1 div.sk-item {position: relative;z-index: 1;}#sk-container-id-1 div.sk-parallel {display: flex;align-items: stretch;justify-content: center;background-color: white;position: relative;}#sk-container-id-1 div.sk-item::before, #sk-container-id-1 div.sk-parallel-item::before {content: \"\";position: absolute;border-left: 1px solid gray;box-sizing: border-box;top: 0;bottom: 0;left: 50%;z-index: -1;}#sk-container-id-1 div.sk-parallel-item {display: flex;flex-direction: column;z-index: 1;position: relative;background-color: white;}#sk-container-id-1 div.sk-parallel-item:first-child::after {align-self: flex-end;width: 50%;}#sk-container-id-1 div.sk-parallel-item:last-child::after {align-self: flex-start;width: 50%;}#sk-container-id-1 div.sk-parallel-item:only-child::after {width: 0;}#sk-container-id-1 div.sk-dashed-wrapped {border: 1px dashed gray;margin: 0 0.4em 0.5em 0.4em;box-sizing: border-box;padding-bottom: 0.4em;background-color: white;}#sk-container-id-1 div.sk-label label {font-family: monospace;font-weight: bold;display: inline-block;line-height: 1.2em;}#sk-container-id-1 div.sk-label-container {text-align: center;}#sk-container-id-1 div.sk-container {/* jupyter's `normalize.less` sets `[hidden] { display: none; }` but bootstrap.min.css set `[hidden] { display: none !important; }` so we also need the `!important` here to be able to override the default hidden behavior on the sphinx rendered scikit-learn.org. See: https://github.com/scikit-learn/scikit-learn/issues/21755 */display: inline-block !important;position: relative;}#sk-container-id-1 div.sk-text-repr-fallback {display: none;}</style><div id=\"sk-container-id-1\" class=\"sk-top-container\"><div class=\"sk-text-repr-fallback\"><pre>HistGradientBoostingClassifier()</pre><b>In a Jupyter environment, please rerun this cell to show the HTML representation or trust the notebook. <br />On GitHub, the HTML representation is unable to render, please try loading this page with nbviewer.org.</b></div><div class=\"sk-container\" hidden><div class=\"sk-item\"><div class=\"sk-estimator sk-toggleable\"><input class=\"sk-toggleable__control sk-hidden--visually\" id=\"sk-estimator-id-1\" type=\"checkbox\" checked><label for=\"sk-estimator-id-1\" class=\"sk-toggleable__label sk-toggleable__label-arrow\">HistGradientBoostingClassifier</label><div class=\"sk-toggleable__content\"><pre>HistGradientBoostingClassifier()</pre></div></div></div></div></div>"
      ],
      "text/plain": [
       "HistGradientBoostingClassifier()"
      ]
     },
     "execution_count": 23,
     "metadata": {},
     "output_type": "execute_result"
    }
   ],
   "source": [
    "clf.fit(x_train, y_train)"
   ]
  },
  {
   "cell_type": "code",
   "execution_count": 24,
   "id": "c933eec8",
   "metadata": {},
   "outputs": [
    {
     "data": {
      "text/plain": [
       "array([0, 1, 0, ..., 0, 1, 1], dtype=int64)"
      ]
     },
     "execution_count": 24,
     "metadata": {},
     "output_type": "execute_result"
    }
   ],
   "source": [
    "y_pred = clf.predict(x_test)\n",
    "y_pred"
   ]
  },
  {
   "cell_type": "code",
   "execution_count": 25,
   "id": "7709d2ba",
   "metadata": {},
   "outputs": [],
   "source": [
    "from sklearn.model_selection import cross_val_score"
   ]
  },
  {
   "cell_type": "code",
   "execution_count": 26,
   "id": "ae08d9e2",
   "metadata": {},
   "outputs": [
    {
     "name": "stdout",
     "output_type": "stream",
     "text": [
      "[0.70591268 0.70750437 0.70325186 0.70111594 0.70191767 0.70988521\n",
      " 0.70617821 0.70882804 0.69950971 0.71331017 0.70511549 0.70882804\n",
      " 0.71225809 0.70538132 0.71776431 0.7069742  0.7109408  0.70084849\n",
      " 0.70458353 0.70511549 0.71291799 0.71212835 0.70231639 0.70657612\n",
      " 0.70737196 0.69964089 0.71133782 0.71423213 0.71396949 0.71081032]\n"
     ]
    }
   ],
   "source": [
    "score = cross_val_score(clf, x_train, y_train, scoring=\"neg_mean_squared_error\", cv=30)\n",
    "qrt_score = np.sqrt(-score)\n",
    "print(qrt_score)"
   ]
  },
  {
   "cell_type": "code",
   "execution_count": 27,
   "id": "a5c489a8",
   "metadata": {},
   "outputs": [],
   "source": [
    "from sklearn.metrics import accuracy_score, precision_score, recall_score, f1_score"
   ]
  },
  {
   "cell_type": "code",
   "execution_count": 28,
   "id": "90f928ae",
   "metadata": {},
   "outputs": [
    {
     "name": "stdout",
     "output_type": "stream",
     "text": [
      "X_test shape: (20000, 9)\n",
      "y_test shape: (20000,)\n"
     ]
    }
   ],
   "source": [
    "print(\"X_test shape:\", x_test.shape)\n",
    "print(\"y_test shape:\", y_test.shape)"
   ]
  },
  {
   "cell_type": "code",
   "execution_count": 29,
   "id": "883d19c4",
   "metadata": {},
   "outputs": [],
   "source": [
    "y = data['Churn']\n",
    "threshold_value = 0.5\n",
    "y_binary = (y > threshold_value).astype(int)"
   ]
  },
  {
   "cell_type": "code",
   "execution_count": 30,
   "id": "0aacb554",
   "metadata": {},
   "outputs": [],
   "source": [
    "accuracy = accuracy_score(y_test, y_pred)\n",
    "precision = precision_score(y_test, y_pred)\n",
    "recall = recall_score(y_test, y_pred)\n",
    "f1 = f1_score(y_test, y_pred)"
   ]
  },
  {
   "cell_type": "markdown",
   "id": "e7dfdf51",
   "metadata": {},
   "source": [
    "# using joblib to dump the file"
   ]
  },
  {
   "cell_type": "code",
   "execution_count": 31,
   "id": "5190badd",
   "metadata": {},
   "outputs": [],
   "source": [
    "# from joblib import dump"
   ]
  },
  {
   "cell_type": "code",
   "execution_count": 32,
   "id": "db04f961",
   "metadata": {},
   "outputs": [],
   "source": [
    "# dump(clf, 'Customer Churn Prediction.py')"
   ]
  },
  {
   "cell_type": "code",
   "execution_count": 41,
   "id": "20bff9cd",
   "metadata": {},
   "outputs": [],
   "source": [
    "def predict_churn(new_data):\n",
    "    missing_features = set(x_train.columns) - set(new_data.columns)\n",
    "    for feature in missing_features:\n",
    "        new_data[feature] = 0  \n",
    "    # Preprocess the new data\n",
    "    new_data['Gender'] = label_encoder.fit_transform(new_data['Gender'])\n",
    "    new_data = pd.get_dummies(new_data, columns=['Location'], drop_first=True)\n",
    "#     new_data = new_data[feature_names]\n",
    "    new_data_scaled = scaler.fit_transform(new_data)\n",
    "    churn_predictions = clf.predict(new_data_scaled)\n",
    "    return churn_predictions"
   ]
  },
  {
   "cell_type": "code",
   "execution_count": 42,
   "id": "7880d8ae",
   "metadata": {},
   "outputs": [
    {
     "name": "stdout",
     "output_type": "stream",
     "text": [
      "Enter customer age: 34\n",
      "Enter customer gender (Male/Female): Female\n",
      "Enter customer location: Miami\n",
      "Enter subscription length in months: 21\n",
      "Enter monthly bill amount: 50.21\n",
      "Enter total usage in GB: 299\n"
     ]
    }
   ],
   "source": [
    "    age = int(input(\"Enter customer age: \"))\n",
    "    gender = input(\"Enter customer gender (Male/Female): \")\n",
    "    location = input(\"Enter customer location: \")\n",
    "    subscription_length = int(input(\"Enter subscription length in months: \"))\n",
    "    monthly_bill = float(input(\"Enter monthly bill amount: \"))\n",
    "    total_usage_gb = float(input(\"Enter total usage in GB: \"))"
   ]
  },
  {
   "cell_type": "code",
   "execution_count": 43,
   "id": "1d16125d",
   "metadata": {},
   "outputs": [],
   "source": [
    "import pandas as pd\n",
    "new_customer_data = pd.DataFrame({\n",
    "        'Age': [age],\n",
    "        'Gender': [gender],\n",
    "        'Location': [location],\n",
    "        'Subscription_Length_Months': [subscription_length],\n",
    "        'Monthly_Bill': [monthly_bill],\n",
    "        'Total_Usage_GB': [total_usage_gb]\n",
    " })"
   ]
  },
  {
   "cell_type": "code",
   "execution_count": 44,
   "id": "5537abf3",
   "metadata": {},
   "outputs": [
    {
     "name": "stdout",
     "output_type": "stream",
     "text": [
      "Churn Prediction: [0]\n"
     ]
    },
    {
     "name": "stderr",
     "output_type": "stream",
     "text": [
      "C:\\ProgramData\\anaconda3\\Lib\\site-packages\\sklearn\\base.py:464: UserWarning: X does not have valid feature names, but HistGradientBoostingClassifier was fitted with feature names\n",
      "  warnings.warn(\n"
     ]
    }
   ],
   "source": [
    "churn_prediction = predict_churn(new_customer_data)\n",
    "print(\"Churn Prediction:\", churn_prediction)"
   ]
  },
  {
   "cell_type": "code",
   "execution_count": null,
   "id": "dc2ebd95",
   "metadata": {},
   "outputs": [],
   "source": []
  }
 ],
 "metadata": {
  "kernelspec": {
   "display_name": "Python 3 (ipykernel)",
   "language": "python",
   "name": "python3"
  },
  "language_info": {
   "codemirror_mode": {
    "name": "ipython",
    "version": 3
   },
   "file_extension": ".py",
   "mimetype": "text/x-python",
   "name": "python",
   "nbconvert_exporter": "python",
   "pygments_lexer": "ipython3",
   "version": "3.11.4"
  }
 },
 "nbformat": 4,
 "nbformat_minor": 5
}
